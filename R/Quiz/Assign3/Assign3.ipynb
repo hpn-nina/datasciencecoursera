{
 "cells": [
  {
   "cell_type": "markdown",
   "source": [
    "# Introduction\r\n",
    "Because I want to learn both Python and R simutaneously, I will try to do the assignment on both R and Python"
   ],
   "metadata": {}
  },
  {
   "cell_type": "code",
   "execution_count": 5,
   "source": [
    "import matplotlib.pyplot as plt\r\n",
    "import pandas as pd\r\n",
    "import numpy as np"
   ],
   "outputs": [],
   "metadata": {}
  },
  {
   "cell_type": "markdown",
   "source": [
    "## Plot 30-day mortality rates for heart attack"
   ],
   "metadata": {}
  },
  {
   "cell_type": "code",
   "execution_count": 10,
   "source": [
    "outcome = pd.read_csv(\"outcome-of-care-measures.csv\")\r\n",
    "print(outcome.shape)\r\n",
    "print(type(outcome))\r\n",
    "print(outcome.columns)"
   ],
   "outputs": [
    {
     "output_type": "stream",
     "name": "stdout",
     "text": [
      "(4706, 46)\n",
      "<class 'pandas.core.frame.DataFrame'>\n",
      "Index(['Provider Number', 'Hospital Name', 'Address 1', 'Address 2',\n",
      "       'Address 3', 'City', 'State', 'ZIP Code', 'County Name', 'Phone Number',\n",
      "       'Hospital 30-Day Death (Mortality) Rates from Heart Attack',\n",
      "       'Comparison to U.S. Rate - Hospital 30-Day Death (Mortality) Rates from Heart Attack',\n",
      "       'Lower Mortality Estimate - Hospital 30-Day Death (Mortality) Rates from Heart Attack',\n",
      "       'Upper Mortality Estimate - Hospital 30-Day Death (Mortality) Rates from Heart Attack',\n",
      "       'Number of Patients - Hospital 30-Day Death (Mortality) Rates from Heart Attack',\n",
      "       'Footnote - Hospital 30-Day Death (Mortality) Rates from Heart Attack',\n",
      "       'Hospital 30-Day Death (Mortality) Rates from Heart Failure',\n",
      "       'Comparison to U.S. Rate - Hospital 30-Day Death (Mortality) Rates from Heart Failure',\n",
      "       'Lower Mortality Estimate - Hospital 30-Day Death (Mortality) Rates from Heart Failure',\n",
      "       'Upper Mortality Estimate - Hospital 30-Day Death (Mortality) Rates from Heart Failure',\n",
      "       'Number of Patients - Hospital 30-Day Death (Mortality) Rates from Heart Failure',\n",
      "       'Footnote - Hospital 30-Day Death (Mortality) Rates from Heart Failure',\n",
      "       'Hospital 30-Day Death (Mortality) Rates from Pneumonia',\n",
      "       'Comparison to U.S. Rate - Hospital 30-Day Death (Mortality) Rates from Pneumonia',\n",
      "       'Lower Mortality Estimate - Hospital 30-Day Death (Mortality) Rates from Pneumonia',\n",
      "       'Upper Mortality Estimate - Hospital 30-Day Death (Mortality) Rates from Pneumonia',\n",
      "       'Number of Patients - Hospital 30-Day Death (Mortality) Rates from Pneumonia',\n",
      "       'Footnote - Hospital 30-Day Death (Mortality) Rates from Pneumonia',\n",
      "       'Hospital 30-Day Readmission Rates from Heart Attack',\n",
      "       'Comparison to U.S. Rate - Hospital 30-Day Readmission Rates from Heart Attack',\n",
      "       'Lower Readmission Estimate - Hospital 30-Day Readmission Rates from Heart Attack',\n",
      "       'Upper Readmission Estimate - Hospital 30-Day Readmission Rates from Heart Attack',\n",
      "       'Number of Patients - Hospital 30-Day Readmission Rates from Heart Attack',\n",
      "       'Footnote - Hospital 30-Day Readmission Rates from Heart Attack',\n",
      "       'Hospital 30-Day Readmission Rates from Heart Failure',\n",
      "       'Comparison to U.S. Rate - Hospital 30-Day Readmission Rates from Heart Failure',\n",
      "       'Lower Readmission Estimate - Hospital 30-Day Readmission Rates from Heart Failure',\n",
      "       'Upper Readmission Estimate - Hospital 30-Day Readmission Rates from Heart Failure',\n",
      "       'Number of Patients - Hospital 30-Day Readmission Rates from Heart Failure',\n",
      "       'Footnote - Hospital 30-Day Readmission Rates from Heart Failure',\n",
      "       'Hospital 30-Day Readmission Rates from Pneumonia',\n",
      "       'Comparison to U.S. Rate - Hospital 30-Day Readmission Rates from Pneumonia',\n",
      "       'Lower Readmission Estimate - Hospital 30-Day Readmission Rates from Pneumonia',\n",
      "       'Upper Readmission Estimate - Hospital 30-Day Readmission Rates from Pneumonia',\n",
      "       'Number of Patients - Hospital 30-Day Readmission Rates from Pneumonia',\n",
      "       'Footnote - Hospital 30-Day Readmission Rates from Pneumonia'],\n",
      "      dtype='object')\n"
     ]
    }
   ],
   "metadata": {}
  },
  {
   "cell_type": "code",
   "execution_count": 44,
   "source": [
    "column10 = outcome[[outcome.columns[10]]].replace('Not Available', np.nan)\r\n",
    "column10 = pd.to_numeric(column10[outcome.columns[10]])\r\n",
    "column10.plot.hist()"
   ],
   "outputs": [
    {
     "output_type": "execute_result",
     "data": {
      "text/plain": [
       "<AxesSubplot:ylabel='Frequency'>"
      ]
     },
     "metadata": {},
     "execution_count": 44
    },
    {
     "output_type": "display_data",
     "data": {
      "image/png": "[encoded data removed]",
      "text/plain": [
       "<Figure size 432x288 with 1 Axes>"
      ]
     },
     "metadata": {
      "needs_background": "light"
     }
    }
   ],
   "metadata": {}
  },
  {
   "cell_type": "markdown",
   "source": [
    "## Finding the best hospital in a state"
   ],
   "metadata": {}
  },
  {
   "cell_type": "code",
   "execution_count": 26,
   "source": [
    "# We notice that the column in which contains the mortality rate of the three diesease are 10, 16, 22\r\n",
    "# Beacause of that we construct a dict that accumulate all these place\r\n",
    "import pandas as pd\r\n",
    "ref = {\"heart attack\": 'Hospital 30-Day Death (Mortality) Rates from Heart Attack', \r\n",
    "        \"heart failure\": 'Hospital 30-Day Death (Mortality) Rates from Heart Failure',\r\n",
    "         \"pneumonia\": 'Hospital 30-Day Death (Mortality) Rates from Pneumonia'}\r\n",
    "\r\n",
    "def best(state, outcome):\r\n",
    "\r\n",
    "    # Check if this is a valid outcome\r\n",
    "    if(outcome not in ref):\r\n",
    "        print('invalid outcome')\r\n",
    "        return\r\n",
    "    full_term = ref[outcome]\r\n",
    "    # Read the csv file\r\n",
    "    df = pd.read_csv(\"outcome-of-care-measures.csv\")\r\n",
    "\r\n",
    "    # Check if the state is valid\r\n",
    "    state_list = pd.unique(df.State)\r\n",
    "    if(state not in state_list):\r\n",
    "        print(\"invalid state\")\r\n",
    "        return\r\n",
    "\r\n",
    "    # Return hospital name in that state with lowest 30-day death\r\n",
    "    # Eleminating all the unnecessary row\r\n",
    "    sub_df = df[df.State.isin([state])]\r\n",
    "    # Take the Hospital name and the statistic column\r\n",
    "    sub_df = sub_df[['Hospital Name', full_term]]\r\n",
    "\r\n",
    "    result = sub_df[sub_df[full_term] <= min(sub_df[full_term])]\r\n",
    "\r\n",
    "    result = sorted(result['Hospital Name'].tolist())\r\n",
    "\r\n",
    "    print(result)\r\n",
    "\r\n",
    "\r\n",
    "best('MD', 'pneumonia')"
   ],
   "outputs": [
    {
     "output_type": "stream",
     "name": "stdout",
     "text": [
      "['CALVERT MEMORIAL HOSPITAL', 'HOWARD COUNTY GENERAL HOSPITAL']\n"
     ]
    }
   ],
   "metadata": {}
  },
  {
   "cell_type": "code",
   "execution_count": 11,
   "source": [
    "outcome.State"
   ],
   "outputs": [
    {
     "output_type": "execute_result",
     "data": {
      "text/plain": [
       "0       AL\n",
       "1       AL\n",
       "2       AL\n",
       "3       AL\n",
       "4       AL\n",
       "        ..\n",
       "4701    TX\n",
       "4702    TX\n",
       "4703    TX\n",
       "4704    TX\n",
       "4705    TX\n",
       "Name: State, Length: 4706, dtype: object"
      ]
     },
     "metadata": {},
     "execution_count": 11
    }
   ],
   "metadata": {}
  }
 ],
 "metadata": {
  "orig_nbformat": 4,
  "language_info": {
   "name": "python",
   "version": "3.8.8",
   "mimetype": "text/x-python",
   "codemirror_mode": {
    "name": "ipython",
    "version": 3
   },
   "pygments_lexer": "ipython3",
   "nbconvert_exporter": "python",
   "file_extension": ".py"
  },
  "kernelspec": {
   "name": "python3",
   "display_name": "Python 3.8.8 64-bit ('base': conda)"
  },
  "interpreter": {
   "hash": "380030d1298d5a27518acca789ff38fe82bbf2e68b73263de6a6bf23efb7704c"
  }
 },
 "nbformat": 4,
 "nbformat_minor": 2
}