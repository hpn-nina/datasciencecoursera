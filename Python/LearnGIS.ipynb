{
 "cells": [
  {
   "cell_type": "markdown",
   "source": [
    "# Introduction\r\n",
    "Structure:\r\n",
    "- Table\r\n",
    "- Table + space: GIS (Geography, Info, System)\r\n",
    "\r\n",
    "Non-structure: Do not have the particular format\r\n",
    "- Sensor\r\n",
    "- Textual\r\n",
    "- Video"
   ],
   "metadata": {}
  },
  {
   "cell_type": "markdown",
   "source": [
    "## Structural data\r\n",
    "### Table\r\n",
    "- Fixed number of column\r\n",
    "- Have the same data type for each column\r\n",
    "- Having the same unite semantic for each column\r\n",
    "\r\n",
    "#### Operator\r\n",
    "- Logic operator\r\n",
    "- In, contain\r\n",
    "\r\n",
    "### GIS\r\n",
    "- Similar with table but have one more column called geometry which can take in POINT, POLYLINE OR POLYGON (or more geometry features)\r\n",
    "\r\n",
    "#### Operator\r\n",
    "- Likewise\r\n",
    "- Point - Point\r\n",
    "    - Distance\r\n",
    "- Point- Polyline\r\n",
    "    - Belong to\r\n",
    "    - Distance\r\n",
    "- Point - polygon\r\n",
    "    - Lies in / on / out\r\n",
    "- Polygon - Polygon\r\n",
    "    - Cross / Meet / Do not meet"
   ],
   "metadata": {}
  },
  {
   "cell_type": "code",
   "execution_count": null,
   "source": [],
   "outputs": [],
   "metadata": {}
  }
 ],
 "metadata": {
  "orig_nbformat": 4,
  "language_info": {
   "name": "python",
   "version": "3.8.8"
  },
  "kernelspec": {
   "name": "python3",
   "display_name": "Python 3.8.8 64-bit ('base': conda)"
  },
  "interpreter": {
   "hash": "380030d1298d5a27518acca789ff38fe82bbf2e68b73263de6a6bf23efb7704c"
  }
 },
 "nbformat": 4,
 "nbformat_minor": 2
}