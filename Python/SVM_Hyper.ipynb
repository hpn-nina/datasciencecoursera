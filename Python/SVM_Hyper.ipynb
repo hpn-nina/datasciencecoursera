{
  "nbformat": 4,
  "nbformat_minor": 0,
  "metadata": {
    "colab": {
      "name": "SVM-Hyper.ipynb",
      "provenance": [],
      "authorship_tag": "ABX9TyOQQG+o2Tg3ls3cRuaSjbfB",
      "include_colab_link": true
    },
    "kernelspec": {
      "name": "python3",
      "display_name": "Python 3"
    },
    "language_info": {
      "name": "python"
    }
  },
  "cells": [
    {
      "cell_type": "markdown",
      "metadata": {
        "id": "view-in-github",
        "colab_type": "text"
      },
      "source": [
        "<a href=\"https://colab.research.google.com/github/lialic/datasciencecoursera/blob/master/Python/SVM_Hyper.ipynb\" target=\"_parent\"><img src=\"https://colab.research.google.com/assets/colab-badge.svg\" alt=\"Open In Colab\"/></a>"
      ]
    },
    {
      "cell_type": "markdown",
      "metadata": {
        "id": "zgUH8dcjYzhC"
      },
      "source": [
        "# SVM and tune params with GridSearch\n",
        "\n",
        "MSSV: 19520208\n",
        "Ten: Huynh Phuong Nhu"
      ]
    },
    {
      "cell_type": "markdown",
      "metadata": {
        "id": "S5MCRljOYwrK"
      },
      "source": [
        "## Import libs "
      ]
    },
    {
      "cell_type": "code",
      "metadata": {
        "id": "ib37d8QmhZ-D"
      },
      "source": [
        "import numpy as np\n",
        "import matplotlib.pyplot as plt\n",
        "import pandas as pd\n",
        "from sklearn.svm import SVC"
      ],
      "execution_count": null,
      "outputs": []
    },
    {
      "cell_type": "markdown",
      "metadata": {
        "id": "qg8Y1Lhdim67"
      },
      "source": [
        "SVM có những siêu tham số gì? Miền giá trị của những siêu tham số\n",
        "\n",
        "C : float, optional (default=1.0)\n",
        "    Penalty parameter C of the error term.\n",
        "\n",
        "degree : int, optional (default=3)\n",
        "   Degree of the polynomial kernel function (‘poly’). Ignored by all other kernels.\n",
        "\n",
        "\n",
        "tol : float, optional (default=1e-3)\n",
        "   Tolerance for stopping criterion.\n",
        "\n",
        "```\n",
        "param_grid = [\n",
        " {'C': [1, 10, 100, 1000], 'kernel': ['linear']},\n",
        " {'C': [1, 10, 100, 1000], 'gamma': [0.001, 0.0001], 'kernel': ['rbf']},\n",
        "]\n",
        "```"
      ]
    },
    {
      "cell_type": "code",
      "metadata": {
        "id": "gugNGTlch_IT",
        "colab": {
          "base_uri": "https://localhost:8080/"
        },
        "outputId": "cf167624-40e9-47b9-bdee-eb632da18a33"
      },
      "source": [
        "from google.colab import drive\n",
        "drive.mount('/content/drive')"
      ],
      "execution_count": null,
      "outputs": [
        {
          "output_type": "stream",
          "name": "stdout",
          "text": [
            "Mounted at /content/drive\n"
          ]
        }
      ]
    },
    {
      "cell_type": "code",
      "metadata": {
        "colab": {
          "base_uri": "https://localhost:8080/"
        },
        "id": "kSjKczbRjq53",
        "outputId": "e4e99e26-bd5e-4653-c55a-34386df5512b"
      },
      "source": [
        "path = '/content/drive/MyDrive/Data/CS116/Social_Network_Ads.csv'\n",
        "df = pd.read_csv(path)\n",
        "df.head"
      ],
      "execution_count": null,
      "outputs": [
        {
          "output_type": "execute_result",
          "data": {
            "text/plain": [
              "<bound method NDFrame.head of      Age  EstimatedSalary  Purchased\n",
              "0     19            19000          0\n",
              "1     35            20000          0\n",
              "2     26            43000          0\n",
              "3     27            57000          0\n",
              "4     19            76000          0\n",
              "..   ...              ...        ...\n",
              "395   46            41000          1\n",
              "396   51            23000          1\n",
              "397   50            20000          1\n",
              "398   36            33000          0\n",
              "399   49            36000          1\n",
              "\n",
              "[400 rows x 3 columns]>"
            ]
          },
          "metadata": {},
          "execution_count": 4
        }
      ]
    },
    {
      "cell_type": "code",
      "metadata": {
        "id": "DlDZfKJ-kjdB"
      },
      "source": [
        "x, y = df.iloc[:, :-1], df.iloc[:, -1]"
      ],
      "execution_count": null,
      "outputs": []
    },
    {
      "cell_type": "markdown",
      "metadata": {
        "id": "KMZCsNijmNd7"
      },
      "source": [
        "## Split train:val:test to be 6:2:2"
      ]
    },
    {
      "cell_type": "code",
      "metadata": {
        "id": "FrvgR4wMk58l"
      },
      "source": [
        "from sklearn.model_selection import train_test_split\n",
        "x_train, x_test, y_train, y_test = train_test_split(x, y, test_size=0.2, random_state=1)"
      ],
      "execution_count": null,
      "outputs": []
    },
    {
      "cell_type": "markdown",
      "metadata": {
        "id": "VaVjdmyfmSau"
      },
      "source": [
        "## Normalize the data"
      ]
    },
    {
      "cell_type": "code",
      "metadata": {
        "id": "hd4ju0_xkGPu"
      },
      "source": [
        "from sklearn.preprocessing import StandardScaler\n",
        "scaler = StandardScaler()\n",
        "x_new = scaler.fit_transform(x_train)"
      ],
      "execution_count": null,
      "outputs": []
    },
    {
      "cell_type": "markdown",
      "metadata": {
        "id": "i4rYh99ZmW-w"
      },
      "source": [
        "## Find the best hyper-params and train using GridSearch"
      ]
    },
    {
      "cell_type": "code",
      "metadata": {
        "id": "lj4lK60gt4sZ"
      },
      "source": [
        "from sklearn.model_selection import GridSearchCV\n",
        "parameters = {'kernel':('linear', 'rbf', 'poly', 'sigmoid'), 'C': [0.1, 0.5, 1, 10], 'gamma': [0.5, 0.1, 0.005 ,0.001, 0.0001], 'degree': [3, 5, 7, 9]}\n",
        "best_acc = 0"
      ],
      "execution_count": null,
      "outputs": []
    },
    {
      "cell_type": "code",
      "metadata": {
        "id": "7qtnXrnEvI1n"
      },
      "source": [
        "from sklearn.metrics import classification_report, accuracy_score\n",
        "from sklearn.datasets import make_blobs\n",
        "from sklearn.model_selection import RepeatedStratifiedKFold"
      ],
      "execution_count": null,
      "outputs": []
    },
    {
      "cell_type": "code",
      "metadata": {
        "colab": {
          "base_uri": "https://localhost:8080/"
        },
        "id": "PLSTPkMKu2hm",
        "outputId": "d8e7bb51-19e2-476f-e740-c19276d2037d"
      },
      "source": [
        "model = SVC()\n",
        "cv = RepeatedStratifiedKFold(n_splits=5, n_repeats=3, random_state=1)\n",
        "grid_search = GridSearchCV(estimator=model, param_grid=parameters, n_jobs=-1, cv=cv, scoring='accuracy',error_score=0)\n",
        "grid_result = grid_search.fit(x_new, y_train)\n",
        "\n",
        "# summarize results\n",
        "print(\"Best: %f using %s\" % (grid_result.best_score_, grid_result.best_params_))\n",
        "means = grid_result.cv_results_['mean_test_score']\n",
        "stds = grid_result.cv_results_['std_test_score']\n",
        "params = grid_result.cv_results_['params']\n",
        "for mean, stdev, param in zip(means, stds, params):\n",
        "    print(\"%f (%f) with: %r\" % (mean, stdev, param))"
      ],
      "execution_count": null,
      "outputs": [
        {
          "output_type": "stream",
          "name": "stdout",
          "text": [
            "Best: 0.920833 using {'C': 0.5, 'degree': 3, 'gamma': 0.5, 'kernel': 'rbf'}\n",
            "0.833333 (0.045166) with: {'C': 0.1, 'degree': 3, 'gamma': 0.5, 'kernel': 'linear'}\n",
            "0.914583 (0.041090) with: {'C': 0.1, 'degree': 3, 'gamma': 0.5, 'kernel': 'rbf'}\n",
            "0.804167 (0.027873) with: {'C': 0.1, 'degree': 3, 'gamma': 0.5, 'kernel': 'poly'}\n",
            "0.764583 (0.043626) with: {'C': 0.1, 'degree': 3, 'gamma': 0.5, 'kernel': 'sigmoid'}\n",
            "0.833333 (0.045166) with: {'C': 0.1, 'degree': 3, 'gamma': 0.1, 'kernel': 'linear'}\n",
            "0.850000 (0.041063) with: {'C': 0.1, 'degree': 3, 'gamma': 0.1, 'kernel': 'rbf'}\n",
            "0.653125 (0.006250) with: {'C': 0.1, 'degree': 3, 'gamma': 0.1, 'kernel': 'poly'}\n",
            "0.797917 (0.037180) with: {'C': 0.1, 'degree': 3, 'gamma': 0.1, 'kernel': 'sigmoid'}\n",
            "0.833333 (0.045166) with: {'C': 0.1, 'degree': 3, 'gamma': 0.005, 'kernel': 'linear'}\n",
            "0.653125 (0.006250) with: {'C': 0.1, 'degree': 3, 'gamma': 0.005, 'kernel': 'rbf'}\n",
            "0.653125 (0.006250) with: {'C': 0.1, 'degree': 3, 'gamma': 0.005, 'kernel': 'poly'}\n",
            "0.653125 (0.006250) with: {'C': 0.1, 'degree': 3, 'gamma': 0.005, 'kernel': 'sigmoid'}\n",
            "0.833333 (0.045166) with: {'C': 0.1, 'degree': 3, 'gamma': 0.001, 'kernel': 'linear'}\n",
            "0.653125 (0.006250) with: {'C': 0.1, 'degree': 3, 'gamma': 0.001, 'kernel': 'rbf'}\n",
            "0.653125 (0.006250) with: {'C': 0.1, 'degree': 3, 'gamma': 0.001, 'kernel': 'poly'}\n",
            "0.653125 (0.006250) with: {'C': 0.1, 'degree': 3, 'gamma': 0.001, 'kernel': 'sigmoid'}\n",
            "0.833333 (0.045166) with: {'C': 0.1, 'degree': 3, 'gamma': 0.0001, 'kernel': 'linear'}\n",
            "0.653125 (0.006250) with: {'C': 0.1, 'degree': 3, 'gamma': 0.0001, 'kernel': 'rbf'}\n",
            "0.653125 (0.006250) with: {'C': 0.1, 'degree': 3, 'gamma': 0.0001, 'kernel': 'poly'}\n",
            "0.653125 (0.006250) with: {'C': 0.1, 'degree': 3, 'gamma': 0.0001, 'kernel': 'sigmoid'}\n",
            "0.833333 (0.045166) with: {'C': 0.1, 'degree': 5, 'gamma': 0.5, 'kernel': 'linear'}\n",
            "0.914583 (0.041090) with: {'C': 0.1, 'degree': 5, 'gamma': 0.5, 'kernel': 'rbf'}\n",
            "0.795833 (0.022438) with: {'C': 0.1, 'degree': 5, 'gamma': 0.5, 'kernel': 'poly'}\n",
            "0.764583 (0.043626) with: {'C': 0.1, 'degree': 5, 'gamma': 0.5, 'kernel': 'sigmoid'}\n",
            "0.833333 (0.045166) with: {'C': 0.1, 'degree': 5, 'gamma': 0.1, 'kernel': 'linear'}\n",
            "0.850000 (0.041063) with: {'C': 0.1, 'degree': 5, 'gamma': 0.1, 'kernel': 'rbf'}\n",
            "0.653125 (0.006250) with: {'C': 0.1, 'degree': 5, 'gamma': 0.1, 'kernel': 'poly'}\n",
            "0.797917 (0.037180) with: {'C': 0.1, 'degree': 5, 'gamma': 0.1, 'kernel': 'sigmoid'}\n",
            "0.833333 (0.045166) with: {'C': 0.1, 'degree': 5, 'gamma': 0.005, 'kernel': 'linear'}\n",
            "0.653125 (0.006250) with: {'C': 0.1, 'degree': 5, 'gamma': 0.005, 'kernel': 'rbf'}\n",
            "0.653125 (0.006250) with: {'C': 0.1, 'degree': 5, 'gamma': 0.005, 'kernel': 'poly'}\n",
            "0.653125 (0.006250) with: {'C': 0.1, 'degree': 5, 'gamma': 0.005, 'kernel': 'sigmoid'}\n",
            "0.833333 (0.045166) with: {'C': 0.1, 'degree': 5, 'gamma': 0.001, 'kernel': 'linear'}\n",
            "0.653125 (0.006250) with: {'C': 0.1, 'degree': 5, 'gamma': 0.001, 'kernel': 'rbf'}\n",
            "0.653125 (0.006250) with: {'C': 0.1, 'degree': 5, 'gamma': 0.001, 'kernel': 'poly'}\n",
            "0.653125 (0.006250) with: {'C': 0.1, 'degree': 5, 'gamma': 0.001, 'kernel': 'sigmoid'}\n",
            "0.833333 (0.045166) with: {'C': 0.1, 'degree': 5, 'gamma': 0.0001, 'kernel': 'linear'}\n",
            "0.653125 (0.006250) with: {'C': 0.1, 'degree': 5, 'gamma': 0.0001, 'kernel': 'rbf'}\n",
            "0.653125 (0.006250) with: {'C': 0.1, 'degree': 5, 'gamma': 0.0001, 'kernel': 'poly'}\n",
            "0.653125 (0.006250) with: {'C': 0.1, 'degree': 5, 'gamma': 0.0001, 'kernel': 'sigmoid'}\n",
            "0.833333 (0.045166) with: {'C': 0.1, 'degree': 7, 'gamma': 0.5, 'kernel': 'linear'}\n",
            "0.914583 (0.041090) with: {'C': 0.1, 'degree': 7, 'gamma': 0.5, 'kernel': 'rbf'}\n",
            "0.804167 (0.021999) with: {'C': 0.1, 'degree': 7, 'gamma': 0.5, 'kernel': 'poly'}\n",
            "0.764583 (0.043626) with: {'C': 0.1, 'degree': 7, 'gamma': 0.5, 'kernel': 'sigmoid'}\n",
            "0.833333 (0.045166) with: {'C': 0.1, 'degree': 7, 'gamma': 0.1, 'kernel': 'linear'}\n",
            "0.850000 (0.041063) with: {'C': 0.1, 'degree': 7, 'gamma': 0.1, 'kernel': 'rbf'}\n",
            "0.653125 (0.006250) with: {'C': 0.1, 'degree': 7, 'gamma': 0.1, 'kernel': 'poly'}\n",
            "0.797917 (0.037180) with: {'C': 0.1, 'degree': 7, 'gamma': 0.1, 'kernel': 'sigmoid'}\n",
            "0.833333 (0.045166) with: {'C': 0.1, 'degree': 7, 'gamma': 0.005, 'kernel': 'linear'}\n",
            "0.653125 (0.006250) with: {'C': 0.1, 'degree': 7, 'gamma': 0.005, 'kernel': 'rbf'}\n",
            "0.653125 (0.006250) with: {'C': 0.1, 'degree': 7, 'gamma': 0.005, 'kernel': 'poly'}\n",
            "0.653125 (0.006250) with: {'C': 0.1, 'degree': 7, 'gamma': 0.005, 'kernel': 'sigmoid'}\n",
            "0.833333 (0.045166) with: {'C': 0.1, 'degree': 7, 'gamma': 0.001, 'kernel': 'linear'}\n",
            "0.653125 (0.006250) with: {'C': 0.1, 'degree': 7, 'gamma': 0.001, 'kernel': 'rbf'}\n",
            "0.653125 (0.006250) with: {'C': 0.1, 'degree': 7, 'gamma': 0.001, 'kernel': 'poly'}\n",
            "0.653125 (0.006250) with: {'C': 0.1, 'degree': 7, 'gamma': 0.001, 'kernel': 'sigmoid'}\n",
            "0.833333 (0.045166) with: {'C': 0.1, 'degree': 7, 'gamma': 0.0001, 'kernel': 'linear'}\n",
            "0.653125 (0.006250) with: {'C': 0.1, 'degree': 7, 'gamma': 0.0001, 'kernel': 'rbf'}\n",
            "0.653125 (0.006250) with: {'C': 0.1, 'degree': 7, 'gamma': 0.0001, 'kernel': 'poly'}\n",
            "0.653125 (0.006250) with: {'C': 0.1, 'degree': 7, 'gamma': 0.0001, 'kernel': 'sigmoid'}\n",
            "0.833333 (0.045166) with: {'C': 0.1, 'degree': 9, 'gamma': 0.5, 'kernel': 'linear'}\n",
            "0.914583 (0.041090) with: {'C': 0.1, 'degree': 9, 'gamma': 0.5, 'kernel': 'rbf'}\n",
            "0.819792 (0.021246) with: {'C': 0.1, 'degree': 9, 'gamma': 0.5, 'kernel': 'poly'}\n",
            "0.764583 (0.043626) with: {'C': 0.1, 'degree': 9, 'gamma': 0.5, 'kernel': 'sigmoid'}\n",
            "0.833333 (0.045166) with: {'C': 0.1, 'degree': 9, 'gamma': 0.1, 'kernel': 'linear'}\n",
            "0.850000 (0.041063) with: {'C': 0.1, 'degree': 9, 'gamma': 0.1, 'kernel': 'rbf'}\n",
            "0.653125 (0.006250) with: {'C': 0.1, 'degree': 9, 'gamma': 0.1, 'kernel': 'poly'}\n",
            "0.797917 (0.037180) with: {'C': 0.1, 'degree': 9, 'gamma': 0.1, 'kernel': 'sigmoid'}\n",
            "0.833333 (0.045166) with: {'C': 0.1, 'degree': 9, 'gamma': 0.005, 'kernel': 'linear'}\n",
            "0.653125 (0.006250) with: {'C': 0.1, 'degree': 9, 'gamma': 0.005, 'kernel': 'rbf'}\n",
            "0.653125 (0.006250) with: {'C': 0.1, 'degree': 9, 'gamma': 0.005, 'kernel': 'poly'}\n",
            "0.653125 (0.006250) with: {'C': 0.1, 'degree': 9, 'gamma': 0.005, 'kernel': 'sigmoid'}\n",
            "0.833333 (0.045166) with: {'C': 0.1, 'degree': 9, 'gamma': 0.001, 'kernel': 'linear'}\n",
            "0.653125 (0.006250) with: {'C': 0.1, 'degree': 9, 'gamma': 0.001, 'kernel': 'rbf'}\n",
            "0.653125 (0.006250) with: {'C': 0.1, 'degree': 9, 'gamma': 0.001, 'kernel': 'poly'}\n",
            "0.653125 (0.006250) with: {'C': 0.1, 'degree': 9, 'gamma': 0.001, 'kernel': 'sigmoid'}\n",
            "0.833333 (0.045166) with: {'C': 0.1, 'degree': 9, 'gamma': 0.0001, 'kernel': 'linear'}\n",
            "0.653125 (0.006250) with: {'C': 0.1, 'degree': 9, 'gamma': 0.0001, 'kernel': 'rbf'}\n",
            "0.653125 (0.006250) with: {'C': 0.1, 'degree': 9, 'gamma': 0.0001, 'kernel': 'poly'}\n",
            "0.653125 (0.006250) with: {'C': 0.1, 'degree': 9, 'gamma': 0.0001, 'kernel': 'sigmoid'}\n",
            "0.831250 (0.043526) with: {'C': 0.5, 'degree': 3, 'gamma': 0.5, 'kernel': 'linear'}\n",
            "0.920833 (0.041719) with: {'C': 0.5, 'degree': 3, 'gamma': 0.5, 'kernel': 'rbf'}\n",
            "0.860417 (0.028221) with: {'C': 0.5, 'degree': 3, 'gamma': 0.5, 'kernel': 'poly'}\n",
            "0.700000 (0.052042) with: {'C': 0.5, 'degree': 3, 'gamma': 0.5, 'kernel': 'sigmoid'}\n",
            "0.831250 (0.043526) with: {'C': 0.5, 'degree': 3, 'gamma': 0.1, 'kernel': 'linear'}\n",
            "0.895833 (0.042568) with: {'C': 0.5, 'degree': 3, 'gamma': 0.1, 'kernel': 'rbf'}\n",
            "0.703125 (0.030190) with: {'C': 0.5, 'degree': 3, 'gamma': 0.1, 'kernel': 'poly'}\n",
            "0.822917 (0.041405) with: {'C': 0.5, 'degree': 3, 'gamma': 0.1, 'kernel': 'sigmoid'}\n",
            "0.831250 (0.043526) with: {'C': 0.5, 'degree': 3, 'gamma': 0.005, 'kernel': 'linear'}\n",
            "0.693750 (0.020412) with: {'C': 0.5, 'degree': 3, 'gamma': 0.005, 'kernel': 'rbf'}\n",
            "0.653125 (0.006250) with: {'C': 0.5, 'degree': 3, 'gamma': 0.005, 'kernel': 'poly'}\n",
            "0.653125 (0.006250) with: {'C': 0.5, 'degree': 3, 'gamma': 0.005, 'kernel': 'sigmoid'}\n",
            "0.831250 (0.043526) with: {'C': 0.5, 'degree': 3, 'gamma': 0.001, 'kernel': 'linear'}\n",
            "0.653125 (0.006250) with: {'C': 0.5, 'degree': 3, 'gamma': 0.001, 'kernel': 'rbf'}\n",
            "0.653125 (0.006250) with: {'C': 0.5, 'degree': 3, 'gamma': 0.001, 'kernel': 'poly'}\n",
            "0.653125 (0.006250) with: {'C': 0.5, 'degree': 3, 'gamma': 0.001, 'kernel': 'sigmoid'}\n",
            "0.831250 (0.043526) with: {'C': 0.5, 'degree': 3, 'gamma': 0.0001, 'kernel': 'linear'}\n",
            "0.653125 (0.006250) with: {'C': 0.5, 'degree': 3, 'gamma': 0.0001, 'kernel': 'rbf'}\n",
            "0.653125 (0.006250) with: {'C': 0.5, 'degree': 3, 'gamma': 0.0001, 'kernel': 'poly'}\n",
            "0.653125 (0.006250) with: {'C': 0.5, 'degree': 3, 'gamma': 0.0001, 'kernel': 'sigmoid'}\n",
            "0.831250 (0.043526) with: {'C': 0.5, 'degree': 5, 'gamma': 0.5, 'kernel': 'linear'}\n",
            "0.920833 (0.041719) with: {'C': 0.5, 'degree': 5, 'gamma': 0.5, 'kernel': 'rbf'}\n",
            "0.832292 (0.025811) with: {'C': 0.5, 'degree': 5, 'gamma': 0.5, 'kernel': 'poly'}\n",
            "0.700000 (0.052042) with: {'C': 0.5, 'degree': 5, 'gamma': 0.5, 'kernel': 'sigmoid'}\n",
            "0.831250 (0.043526) with: {'C': 0.5, 'degree': 5, 'gamma': 0.1, 'kernel': 'linear'}\n",
            "0.895833 (0.042568) with: {'C': 0.5, 'degree': 5, 'gamma': 0.1, 'kernel': 'rbf'}\n",
            "0.666667 (0.013582) with: {'C': 0.5, 'degree': 5, 'gamma': 0.1, 'kernel': 'poly'}\n",
            "0.822917 (0.041405) with: {'C': 0.5, 'degree': 5, 'gamma': 0.1, 'kernel': 'sigmoid'}\n",
            "0.831250 (0.043526) with: {'C': 0.5, 'degree': 5, 'gamma': 0.005, 'kernel': 'linear'}\n",
            "0.693750 (0.020412) with: {'C': 0.5, 'degree': 5, 'gamma': 0.005, 'kernel': 'rbf'}\n",
            "0.653125 (0.006250) with: {'C': 0.5, 'degree': 5, 'gamma': 0.005, 'kernel': 'poly'}\n",
            "0.653125 (0.006250) with: {'C': 0.5, 'degree': 5, 'gamma': 0.005, 'kernel': 'sigmoid'}\n",
            "0.831250 (0.043526) with: {'C': 0.5, 'degree': 5, 'gamma': 0.001, 'kernel': 'linear'}\n",
            "0.653125 (0.006250) with: {'C': 0.5, 'degree': 5, 'gamma': 0.001, 'kernel': 'rbf'}\n",
            "0.653125 (0.006250) with: {'C': 0.5, 'degree': 5, 'gamma': 0.001, 'kernel': 'poly'}\n",
            "0.653125 (0.006250) with: {'C': 0.5, 'degree': 5, 'gamma': 0.001, 'kernel': 'sigmoid'}\n",
            "0.831250 (0.043526) with: {'C': 0.5, 'degree': 5, 'gamma': 0.0001, 'kernel': 'linear'}\n",
            "0.653125 (0.006250) with: {'C': 0.5, 'degree': 5, 'gamma': 0.0001, 'kernel': 'rbf'}\n",
            "0.653125 (0.006250) with: {'C': 0.5, 'degree': 5, 'gamma': 0.0001, 'kernel': 'poly'}\n",
            "0.653125 (0.006250) with: {'C': 0.5, 'degree': 5, 'gamma': 0.0001, 'kernel': 'sigmoid'}\n",
            "0.831250 (0.043526) with: {'C': 0.5, 'degree': 7, 'gamma': 0.5, 'kernel': 'linear'}\n",
            "0.920833 (0.041719) with: {'C': 0.5, 'degree': 7, 'gamma': 0.5, 'kernel': 'rbf'}\n",
            "0.833333 (0.018634) with: {'C': 0.5, 'degree': 7, 'gamma': 0.5, 'kernel': 'poly'}\n",
            "0.700000 (0.052042) with: {'C': 0.5, 'degree': 7, 'gamma': 0.5, 'kernel': 'sigmoid'}\n",
            "0.831250 (0.043526) with: {'C': 0.5, 'degree': 7, 'gamma': 0.1, 'kernel': 'linear'}\n",
            "0.895833 (0.042568) with: {'C': 0.5, 'degree': 7, 'gamma': 0.1, 'kernel': 'rbf'}\n",
            "0.656250 (0.008069) with: {'C': 0.5, 'degree': 7, 'gamma': 0.1, 'kernel': 'poly'}\n",
            "0.822917 (0.041405) with: {'C': 0.5, 'degree': 7, 'gamma': 0.1, 'kernel': 'sigmoid'}\n",
            "0.831250 (0.043526) with: {'C': 0.5, 'degree': 7, 'gamma': 0.005, 'kernel': 'linear'}\n",
            "0.693750 (0.020412) with: {'C': 0.5, 'degree': 7, 'gamma': 0.005, 'kernel': 'rbf'}\n",
            "0.653125 (0.006250) with: {'C': 0.5, 'degree': 7, 'gamma': 0.005, 'kernel': 'poly'}\n",
            "0.653125 (0.006250) with: {'C': 0.5, 'degree': 7, 'gamma': 0.005, 'kernel': 'sigmoid'}\n",
            "0.831250 (0.043526) with: {'C': 0.5, 'degree': 7, 'gamma': 0.001, 'kernel': 'linear'}\n",
            "0.653125 (0.006250) with: {'C': 0.5, 'degree': 7, 'gamma': 0.001, 'kernel': 'rbf'}\n",
            "0.653125 (0.006250) with: {'C': 0.5, 'degree': 7, 'gamma': 0.001, 'kernel': 'poly'}\n",
            "0.653125 (0.006250) with: {'C': 0.5, 'degree': 7, 'gamma': 0.001, 'kernel': 'sigmoid'}\n",
            "0.831250 (0.043526) with: {'C': 0.5, 'degree': 7, 'gamma': 0.0001, 'kernel': 'linear'}\n",
            "0.653125 (0.006250) with: {'C': 0.5, 'degree': 7, 'gamma': 0.0001, 'kernel': 'rbf'}\n",
            "0.653125 (0.006250) with: {'C': 0.5, 'degree': 7, 'gamma': 0.0001, 'kernel': 'poly'}\n",
            "0.653125 (0.006250) with: {'C': 0.5, 'degree': 7, 'gamma': 0.0001, 'kernel': 'sigmoid'}\n",
            "0.831250 (0.043526) with: {'C': 0.5, 'degree': 9, 'gamma': 0.5, 'kernel': 'linear'}\n",
            "0.920833 (0.041719) with: {'C': 0.5, 'degree': 9, 'gamma': 0.5, 'kernel': 'rbf'}\n",
            "0.829167 (0.029352) with: {'C': 0.5, 'degree': 9, 'gamma': 0.5, 'kernel': 'poly'}\n",
            "0.700000 (0.052042) with: {'C': 0.5, 'degree': 9, 'gamma': 0.5, 'kernel': 'sigmoid'}\n",
            "0.831250 (0.043526) with: {'C': 0.5, 'degree': 9, 'gamma': 0.1, 'kernel': 'linear'}\n",
            "0.895833 (0.042568) with: {'C': 0.5, 'degree': 9, 'gamma': 0.1, 'kernel': 'rbf'}\n",
            "0.653125 (0.006250) with: {'C': 0.5, 'degree': 9, 'gamma': 0.1, 'kernel': 'poly'}\n",
            "0.822917 (0.041405) with: {'C': 0.5, 'degree': 9, 'gamma': 0.1, 'kernel': 'sigmoid'}\n",
            "0.831250 (0.043526) with: {'C': 0.5, 'degree': 9, 'gamma': 0.005, 'kernel': 'linear'}\n",
            "0.693750 (0.020412) with: {'C': 0.5, 'degree': 9, 'gamma': 0.005, 'kernel': 'rbf'}\n",
            "0.653125 (0.006250) with: {'C': 0.5, 'degree': 9, 'gamma': 0.005, 'kernel': 'poly'}\n",
            "0.653125 (0.006250) with: {'C': 0.5, 'degree': 9, 'gamma': 0.005, 'kernel': 'sigmoid'}\n",
            "0.831250 (0.043526) with: {'C': 0.5, 'degree': 9, 'gamma': 0.001, 'kernel': 'linear'}\n",
            "0.653125 (0.006250) with: {'C': 0.5, 'degree': 9, 'gamma': 0.001, 'kernel': 'rbf'}\n",
            "0.653125 (0.006250) with: {'C': 0.5, 'degree': 9, 'gamma': 0.001, 'kernel': 'poly'}\n",
            "0.653125 (0.006250) with: {'C': 0.5, 'degree': 9, 'gamma': 0.001, 'kernel': 'sigmoid'}\n",
            "0.831250 (0.043526) with: {'C': 0.5, 'degree': 9, 'gamma': 0.0001, 'kernel': 'linear'}\n",
            "0.653125 (0.006250) with: {'C': 0.5, 'degree': 9, 'gamma': 0.0001, 'kernel': 'rbf'}\n",
            "0.653125 (0.006250) with: {'C': 0.5, 'degree': 9, 'gamma': 0.0001, 'kernel': 'poly'}\n",
            "0.653125 (0.006250) with: {'C': 0.5, 'degree': 9, 'gamma': 0.0001, 'kernel': 'sigmoid'}\n",
            "0.833333 (0.040612) with: {'C': 1, 'degree': 3, 'gamma': 0.5, 'kernel': 'linear'}\n",
            "0.920833 (0.038471) with: {'C': 1, 'degree': 3, 'gamma': 0.5, 'kernel': 'rbf'}\n",
            "0.866667 (0.033690) with: {'C': 1, 'degree': 3, 'gamma': 0.5, 'kernel': 'poly'}\n",
            "0.683333 (0.056327) with: {'C': 1, 'degree': 3, 'gamma': 0.5, 'kernel': 'sigmoid'}\n",
            "0.833333 (0.040612) with: {'C': 1, 'degree': 3, 'gamma': 0.1, 'kernel': 'linear'}\n",
            "0.911458 (0.042949) with: {'C': 1, 'degree': 3, 'gamma': 0.1, 'kernel': 'rbf'}\n",
            "0.754167 (0.022438) with: {'C': 1, 'degree': 3, 'gamma': 0.1, 'kernel': 'poly'}\n",
            "0.823958 (0.040128) with: {'C': 1, 'degree': 3, 'gamma': 0.1, 'kernel': 'sigmoid'}\n",
            "0.833333 (0.040612) with: {'C': 1, 'degree': 3, 'gamma': 0.005, 'kernel': 'linear'}\n",
            "0.794792 (0.039059) with: {'C': 1, 'degree': 3, 'gamma': 0.005, 'kernel': 'rbf'}\n",
            "0.653125 (0.006250) with: {'C': 1, 'degree': 3, 'gamma': 0.005, 'kernel': 'poly'}\n",
            "0.698958 (0.021701) with: {'C': 1, 'degree': 3, 'gamma': 0.005, 'kernel': 'sigmoid'}\n",
            "0.833333 (0.040612) with: {'C': 1, 'degree': 3, 'gamma': 0.001, 'kernel': 'linear'}\n",
            "0.653125 (0.006250) with: {'C': 1, 'degree': 3, 'gamma': 0.001, 'kernel': 'rbf'}\n",
            "0.653125 (0.006250) with: {'C': 1, 'degree': 3, 'gamma': 0.001, 'kernel': 'poly'}\n",
            "0.653125 (0.006250) with: {'C': 1, 'degree': 3, 'gamma': 0.001, 'kernel': 'sigmoid'}\n",
            "0.833333 (0.040612) with: {'C': 1, 'degree': 3, 'gamma': 0.0001, 'kernel': 'linear'}\n",
            "0.653125 (0.006250) with: {'C': 1, 'degree': 3, 'gamma': 0.0001, 'kernel': 'rbf'}\n",
            "0.653125 (0.006250) with: {'C': 1, 'degree': 3, 'gamma': 0.0001, 'kernel': 'poly'}\n",
            "0.653125 (0.006250) with: {'C': 1, 'degree': 3, 'gamma': 0.0001, 'kernel': 'sigmoid'}\n",
            "0.833333 (0.040612) with: {'C': 1, 'degree': 5, 'gamma': 0.5, 'kernel': 'linear'}\n",
            "0.920833 (0.038471) with: {'C': 1, 'degree': 5, 'gamma': 0.5, 'kernel': 'rbf'}\n",
            "0.842708 (0.027639) with: {'C': 1, 'degree': 5, 'gamma': 0.5, 'kernel': 'poly'}\n",
            "0.683333 (0.056327) with: {'C': 1, 'degree': 5, 'gamma': 0.5, 'kernel': 'sigmoid'}\n",
            "0.833333 (0.040612) with: {'C': 1, 'degree': 5, 'gamma': 0.1, 'kernel': 'linear'}\n",
            "0.911458 (0.042949) with: {'C': 1, 'degree': 5, 'gamma': 0.1, 'kernel': 'rbf'}\n",
            "0.676042 (0.016601) with: {'C': 1, 'degree': 5, 'gamma': 0.1, 'kernel': 'poly'}\n",
            "0.823958 (0.040128) with: {'C': 1, 'degree': 5, 'gamma': 0.1, 'kernel': 'sigmoid'}\n",
            "0.833333 (0.040612) with: {'C': 1, 'degree': 5, 'gamma': 0.005, 'kernel': 'linear'}\n",
            "0.794792 (0.039059) with: {'C': 1, 'degree': 5, 'gamma': 0.005, 'kernel': 'rbf'}\n",
            "0.653125 (0.006250) with: {'C': 1, 'degree': 5, 'gamma': 0.005, 'kernel': 'poly'}\n",
            "0.698958 (0.021701) with: {'C': 1, 'degree': 5, 'gamma': 0.005, 'kernel': 'sigmoid'}\n",
            "0.833333 (0.040612) with: {'C': 1, 'degree': 5, 'gamma': 0.001, 'kernel': 'linear'}\n",
            "0.653125 (0.006250) with: {'C': 1, 'degree': 5, 'gamma': 0.001, 'kernel': 'rbf'}\n",
            "0.653125 (0.006250) with: {'C': 1, 'degree': 5, 'gamma': 0.001, 'kernel': 'poly'}\n",
            "0.653125 (0.006250) with: {'C': 1, 'degree': 5, 'gamma': 0.001, 'kernel': 'sigmoid'}\n",
            "0.833333 (0.040612) with: {'C': 1, 'degree': 5, 'gamma': 0.0001, 'kernel': 'linear'}\n",
            "0.653125 (0.006250) with: {'C': 1, 'degree': 5, 'gamma': 0.0001, 'kernel': 'rbf'}\n",
            "0.653125 (0.006250) with: {'C': 1, 'degree': 5, 'gamma': 0.0001, 'kernel': 'poly'}\n",
            "0.653125 (0.006250) with: {'C': 1, 'degree': 5, 'gamma': 0.0001, 'kernel': 'sigmoid'}\n",
            "0.833333 (0.040612) with: {'C': 1, 'degree': 7, 'gamma': 0.5, 'kernel': 'linear'}\n",
            "0.920833 (0.038471) with: {'C': 1, 'degree': 7, 'gamma': 0.5, 'kernel': 'rbf'}\n",
            "0.835417 (0.021246) with: {'C': 1, 'degree': 7, 'gamma': 0.5, 'kernel': 'poly'}\n",
            "0.683333 (0.056327) with: {'C': 1, 'degree': 7, 'gamma': 0.5, 'kernel': 'sigmoid'}\n",
            "0.833333 (0.040612) with: {'C': 1, 'degree': 7, 'gamma': 0.1, 'kernel': 'linear'}\n",
            "0.911458 (0.042949) with: {'C': 1, 'degree': 7, 'gamma': 0.1, 'kernel': 'rbf'}\n",
            "0.660417 (0.008961) with: {'C': 1, 'degree': 7, 'gamma': 0.1, 'kernel': 'poly'}\n",
            "0.823958 (0.040128) with: {'C': 1, 'degree': 7, 'gamma': 0.1, 'kernel': 'sigmoid'}\n",
            "0.833333 (0.040612) with: {'C': 1, 'degree': 7, 'gamma': 0.005, 'kernel': 'linear'}\n",
            "0.794792 (0.039059) with: {'C': 1, 'degree': 7, 'gamma': 0.005, 'kernel': 'rbf'}\n",
            "0.653125 (0.006250) with: {'C': 1, 'degree': 7, 'gamma': 0.005, 'kernel': 'poly'}\n",
            "0.698958 (0.021701) with: {'C': 1, 'degree': 7, 'gamma': 0.005, 'kernel': 'sigmoid'}\n",
            "0.833333 (0.040612) with: {'C': 1, 'degree': 7, 'gamma': 0.001, 'kernel': 'linear'}\n",
            "0.653125 (0.006250) with: {'C': 1, 'degree': 7, 'gamma': 0.001, 'kernel': 'rbf'}\n",
            "0.653125 (0.006250) with: {'C': 1, 'degree': 7, 'gamma': 0.001, 'kernel': 'poly'}\n",
            "0.653125 (0.006250) with: {'C': 1, 'degree': 7, 'gamma': 0.001, 'kernel': 'sigmoid'}\n",
            "0.833333 (0.040612) with: {'C': 1, 'degree': 7, 'gamma': 0.0001, 'kernel': 'linear'}\n",
            "0.653125 (0.006250) with: {'C': 1, 'degree': 7, 'gamma': 0.0001, 'kernel': 'rbf'}\n",
            "0.653125 (0.006250) with: {'C': 1, 'degree': 7, 'gamma': 0.0001, 'kernel': 'poly'}\n",
            "0.653125 (0.006250) with: {'C': 1, 'degree': 7, 'gamma': 0.0001, 'kernel': 'sigmoid'}\n",
            "0.833333 (0.040612) with: {'C': 1, 'degree': 9, 'gamma': 0.5, 'kernel': 'linear'}\n",
            "0.920833 (0.038471) with: {'C': 1, 'degree': 9, 'gamma': 0.5, 'kernel': 'rbf'}\n",
            "0.830208 (0.027873) with: {'C': 1, 'degree': 9, 'gamma': 0.5, 'kernel': 'poly'}\n",
            "0.683333 (0.056327) with: {'C': 1, 'degree': 9, 'gamma': 0.5, 'kernel': 'sigmoid'}\n",
            "0.833333 (0.040612) with: {'C': 1, 'degree': 9, 'gamma': 0.1, 'kernel': 'linear'}\n",
            "0.911458 (0.042949) with: {'C': 1, 'degree': 9, 'gamma': 0.1, 'kernel': 'rbf'}\n",
            "0.657292 (0.008961) with: {'C': 1, 'degree': 9, 'gamma': 0.1, 'kernel': 'poly'}\n",
            "0.823958 (0.040128) with: {'C': 1, 'degree': 9, 'gamma': 0.1, 'kernel': 'sigmoid'}\n",
            "0.833333 (0.040612) with: {'C': 1, 'degree': 9, 'gamma': 0.005, 'kernel': 'linear'}\n",
            "0.794792 (0.039059) with: {'C': 1, 'degree': 9, 'gamma': 0.005, 'kernel': 'rbf'}\n",
            "0.653125 (0.006250) with: {'C': 1, 'degree': 9, 'gamma': 0.005, 'kernel': 'poly'}\n",
            "0.698958 (0.021701) with: {'C': 1, 'degree': 9, 'gamma': 0.005, 'kernel': 'sigmoid'}\n",
            "0.833333 (0.040612) with: {'C': 1, 'degree': 9, 'gamma': 0.001, 'kernel': 'linear'}\n",
            "0.653125 (0.006250) with: {'C': 1, 'degree': 9, 'gamma': 0.001, 'kernel': 'rbf'}\n",
            "0.653125 (0.006250) with: {'C': 1, 'degree': 9, 'gamma': 0.001, 'kernel': 'poly'}\n",
            "0.653125 (0.006250) with: {'C': 1, 'degree': 9, 'gamma': 0.001, 'kernel': 'sigmoid'}\n",
            "0.833333 (0.040612) with: {'C': 1, 'degree': 9, 'gamma': 0.0001, 'kernel': 'linear'}\n",
            "0.653125 (0.006250) with: {'C': 1, 'degree': 9, 'gamma': 0.0001, 'kernel': 'rbf'}\n",
            "0.653125 (0.006250) with: {'C': 1, 'degree': 9, 'gamma': 0.0001, 'kernel': 'poly'}\n",
            "0.653125 (0.006250) with: {'C': 1, 'degree': 9, 'gamma': 0.0001, 'kernel': 'sigmoid'}\n",
            "0.833333 (0.044439) with: {'C': 10, 'degree': 3, 'gamma': 0.5, 'kernel': 'linear'}\n",
            "0.920833 (0.039308) with: {'C': 10, 'degree': 3, 'gamma': 0.5, 'kernel': 'rbf'}\n",
            "0.877083 (0.039884) with: {'C': 10, 'degree': 3, 'gamma': 0.5, 'kernel': 'poly'}\n",
            "0.670833 (0.068338) with: {'C': 10, 'degree': 3, 'gamma': 0.5, 'kernel': 'sigmoid'}\n",
            "0.833333 (0.044439) with: {'C': 10, 'degree': 3, 'gamma': 0.1, 'kernel': 'linear'}\n",
            "0.917708 (0.039720) with: {'C': 10, 'degree': 3, 'gamma': 0.1, 'kernel': 'rbf'}\n",
            "0.798958 (0.026680) with: {'C': 10, 'degree': 3, 'gamma': 0.1, 'kernel': 'poly'}\n",
            "0.796875 (0.053217) with: {'C': 10, 'degree': 3, 'gamma': 0.1, 'kernel': 'sigmoid'}\n",
            "0.833333 (0.044439) with: {'C': 10, 'degree': 3, 'gamma': 0.005, 'kernel': 'linear'}\n",
            "0.842708 (0.049235) with: {'C': 10, 'degree': 3, 'gamma': 0.005, 'kernel': 'rbf'}\n",
            "0.653125 (0.006250) with: {'C': 10, 'degree': 3, 'gamma': 0.005, 'kernel': 'poly'}\n",
            "0.832292 (0.042873) with: {'C': 10, 'degree': 3, 'gamma': 0.005, 'kernel': 'sigmoid'}\n",
            "0.833333 (0.044439) with: {'C': 10, 'degree': 3, 'gamma': 0.001, 'kernel': 'linear'}\n",
            "0.814583 (0.039884) with: {'C': 10, 'degree': 3, 'gamma': 0.001, 'kernel': 'rbf'}\n",
            "0.653125 (0.006250) with: {'C': 10, 'degree': 3, 'gamma': 0.001, 'kernel': 'poly'}\n",
            "0.794792 (0.039059) with: {'C': 10, 'degree': 3, 'gamma': 0.001, 'kernel': 'sigmoid'}\n",
            "0.833333 (0.044439) with: {'C': 10, 'degree': 3, 'gamma': 0.0001, 'kernel': 'linear'}\n",
            "0.653125 (0.006250) with: {'C': 10, 'degree': 3, 'gamma': 0.0001, 'kernel': 'rbf'}\n",
            "0.653125 (0.006250) with: {'C': 10, 'degree': 3, 'gamma': 0.0001, 'kernel': 'poly'}\n",
            "0.653125 (0.006250) with: {'C': 10, 'degree': 3, 'gamma': 0.0001, 'kernel': 'sigmoid'}\n",
            "0.833333 (0.044439) with: {'C': 10, 'degree': 5, 'gamma': 0.5, 'kernel': 'linear'}\n",
            "0.920833 (0.039308) with: {'C': 10, 'degree': 5, 'gamma': 0.5, 'kernel': 'rbf'}\n",
            "0.850000 (0.024071) with: {'C': 10, 'degree': 5, 'gamma': 0.5, 'kernel': 'poly'}\n",
            "0.670833 (0.068338) with: {'C': 10, 'degree': 5, 'gamma': 0.5, 'kernel': 'sigmoid'}\n",
            "0.833333 (0.044439) with: {'C': 10, 'degree': 5, 'gamma': 0.1, 'kernel': 'linear'}\n",
            "0.917708 (0.039720) with: {'C': 10, 'degree': 5, 'gamma': 0.1, 'kernel': 'rbf'}\n",
            "0.752083 (0.020466) with: {'C': 10, 'degree': 5, 'gamma': 0.1, 'kernel': 'poly'}\n",
            "0.796875 (0.053217) with: {'C': 10, 'degree': 5, 'gamma': 0.1, 'kernel': 'sigmoid'}\n",
            "0.833333 (0.044439) with: {'C': 10, 'degree': 5, 'gamma': 0.005, 'kernel': 'linear'}\n",
            "0.842708 (0.049235) with: {'C': 10, 'degree': 5, 'gamma': 0.005, 'kernel': 'rbf'}\n",
            "0.653125 (0.006250) with: {'C': 10, 'degree': 5, 'gamma': 0.005, 'kernel': 'poly'}\n",
            "0.832292 (0.042873) with: {'C': 10, 'degree': 5, 'gamma': 0.005, 'kernel': 'sigmoid'}\n",
            "0.833333 (0.044439) with: {'C': 10, 'degree': 5, 'gamma': 0.001, 'kernel': 'linear'}\n",
            "0.814583 (0.039884) with: {'C': 10, 'degree': 5, 'gamma': 0.001, 'kernel': 'rbf'}\n",
            "0.653125 (0.006250) with: {'C': 10, 'degree': 5, 'gamma': 0.001, 'kernel': 'poly'}\n",
            "0.794792 (0.039059) with: {'C': 10, 'degree': 5, 'gamma': 0.001, 'kernel': 'sigmoid'}\n",
            "0.833333 (0.044439) with: {'C': 10, 'degree': 5, 'gamma': 0.0001, 'kernel': 'linear'}\n",
            "0.653125 (0.006250) with: {'C': 10, 'degree': 5, 'gamma': 0.0001, 'kernel': 'rbf'}\n",
            "0.653125 (0.006250) with: {'C': 10, 'degree': 5, 'gamma': 0.0001, 'kernel': 'poly'}\n",
            "0.653125 (0.006250) with: {'C': 10, 'degree': 5, 'gamma': 0.0001, 'kernel': 'sigmoid'}\n",
            "0.833333 (0.044439) with: {'C': 10, 'degree': 7, 'gamma': 0.5, 'kernel': 'linear'}\n",
            "0.920833 (0.039308) with: {'C': 10, 'degree': 7, 'gamma': 0.5, 'kernel': 'rbf'}\n",
            "0.841667 (0.030118) with: {'C': 10, 'degree': 7, 'gamma': 0.5, 'kernel': 'poly'}\n",
            "0.670833 (0.068338) with: {'C': 10, 'degree': 7, 'gamma': 0.5, 'kernel': 'sigmoid'}\n",
            "0.833333 (0.044439) with: {'C': 10, 'degree': 7, 'gamma': 0.1, 'kernel': 'linear'}\n",
            "0.917708 (0.039720) with: {'C': 10, 'degree': 7, 'gamma': 0.1, 'kernel': 'rbf'}\n",
            "0.710417 (0.026680) with: {'C': 10, 'degree': 7, 'gamma': 0.1, 'kernel': 'poly'}\n",
            "0.796875 (0.053217) with: {'C': 10, 'degree': 7, 'gamma': 0.1, 'kernel': 'sigmoid'}\n",
            "0.833333 (0.044439) with: {'C': 10, 'degree': 7, 'gamma': 0.005, 'kernel': 'linear'}\n",
            "0.842708 (0.049235) with: {'C': 10, 'degree': 7, 'gamma': 0.005, 'kernel': 'rbf'}\n",
            "0.653125 (0.006250) with: {'C': 10, 'degree': 7, 'gamma': 0.005, 'kernel': 'poly'}\n",
            "0.832292 (0.042873) with: {'C': 10, 'degree': 7, 'gamma': 0.005, 'kernel': 'sigmoid'}\n",
            "0.833333 (0.044439) with: {'C': 10, 'degree': 7, 'gamma': 0.001, 'kernel': 'linear'}\n",
            "0.814583 (0.039884) with: {'C': 10, 'degree': 7, 'gamma': 0.001, 'kernel': 'rbf'}\n",
            "0.653125 (0.006250) with: {'C': 10, 'degree': 7, 'gamma': 0.001, 'kernel': 'poly'}\n",
            "0.794792 (0.039059) with: {'C': 10, 'degree': 7, 'gamma': 0.001, 'kernel': 'sigmoid'}\n",
            "0.833333 (0.044439) with: {'C': 10, 'degree': 7, 'gamma': 0.0001, 'kernel': 'linear'}\n",
            "0.653125 (0.006250) with: {'C': 10, 'degree': 7, 'gamma': 0.0001, 'kernel': 'rbf'}\n",
            "0.653125 (0.006250) with: {'C': 10, 'degree': 7, 'gamma': 0.0001, 'kernel': 'poly'}\n",
            "0.653125 (0.006250) with: {'C': 10, 'degree': 7, 'gamma': 0.0001, 'kernel': 'sigmoid'}\n",
            "0.833333 (0.044439) with: {'C': 10, 'degree': 9, 'gamma': 0.5, 'kernel': 'linear'}\n",
            "0.920833 (0.039308) with: {'C': 10, 'degree': 9, 'gamma': 0.5, 'kernel': 'rbf'}\n",
            "0.845833 (0.030654) with: {'C': 10, 'degree': 9, 'gamma': 0.5, 'kernel': 'poly'}\n",
            "0.670833 (0.068338) with: {'C': 10, 'degree': 9, 'gamma': 0.5, 'kernel': 'sigmoid'}\n",
            "0.833333 (0.044439) with: {'C': 10, 'degree': 9, 'gamma': 0.1, 'kernel': 'linear'}\n",
            "0.917708 (0.039720) with: {'C': 10, 'degree': 9, 'gamma': 0.1, 'kernel': 'rbf'}\n",
            "0.675000 (0.016338) with: {'C': 10, 'degree': 9, 'gamma': 0.1, 'kernel': 'poly'}\n",
            "0.796875 (0.053217) with: {'C': 10, 'degree': 9, 'gamma': 0.1, 'kernel': 'sigmoid'}\n",
            "0.833333 (0.044439) with: {'C': 10, 'degree': 9, 'gamma': 0.005, 'kernel': 'linear'}\n",
            "0.842708 (0.049235) with: {'C': 10, 'degree': 9, 'gamma': 0.005, 'kernel': 'rbf'}\n",
            "0.653125 (0.006250) with: {'C': 10, 'degree': 9, 'gamma': 0.005, 'kernel': 'poly'}\n",
            "0.832292 (0.042873) with: {'C': 10, 'degree': 9, 'gamma': 0.005, 'kernel': 'sigmoid'}\n",
            "0.833333 (0.044439) with: {'C': 10, 'degree': 9, 'gamma': 0.001, 'kernel': 'linear'}\n",
            "0.814583 (0.039884) with: {'C': 10, 'degree': 9, 'gamma': 0.001, 'kernel': 'rbf'}\n",
            "0.653125 (0.006250) with: {'C': 10, 'degree': 9, 'gamma': 0.001, 'kernel': 'poly'}\n",
            "0.794792 (0.039059) with: {'C': 10, 'degree': 9, 'gamma': 0.001, 'kernel': 'sigmoid'}\n",
            "0.833333 (0.044439) with: {'C': 10, 'degree': 9, 'gamma': 0.0001, 'kernel': 'linear'}\n",
            "0.653125 (0.006250) with: {'C': 10, 'degree': 9, 'gamma': 0.0001, 'kernel': 'rbf'}\n",
            "0.653125 (0.006250) with: {'C': 10, 'degree': 9, 'gamma': 0.0001, 'kernel': 'poly'}\n",
            "0.653125 (0.006250) with: {'C': 10, 'degree': 9, 'gamma': 0.0001, 'kernel': 'sigmoid'}\n"
          ]
        }
      ]
    },
    {
      "cell_type": "markdown",
      "metadata": {
        "id": "ZPaPA_s0YeQH"
      },
      "source": [
        "## Normalize the test set and test"
      ]
    },
    {
      "cell_type": "code",
      "metadata": {
        "colab": {
          "base_uri": "https://localhost:8080/"
        },
        "id": "Mynkj5z3xO8x",
        "outputId": "99412fdf-1145-4a37-abbe-4bca78c5154b"
      },
      "source": [
        "x_test_new = scaler.transform(x_test)\n",
        "pred = grid_search.predict(x_test_new)\n",
        "print(accuracy_score(y_test, pred) )\n",
        "print(classification_report(y_test, pred))"
      ],
      "execution_count": null,
      "outputs": [
        {
          "output_type": "stream",
          "name": "stdout",
          "text": [
            "0.8625\n",
            "              precision    recall  f1-score   support\n",
            "\n",
            "           0       0.95      0.81      0.88        48\n",
            "           1       0.77      0.94      0.85        32\n",
            "\n",
            "    accuracy                           0.86        80\n",
            "   macro avg       0.86      0.88      0.86        80\n",
            "weighted avg       0.88      0.86      0.86        80\n",
            "\n"
          ]
        }
      ]
    }
  ]
}