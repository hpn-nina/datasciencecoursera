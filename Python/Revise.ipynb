{
 "cells": [
  {
   "cell_type": "markdown",
   "source": [
    "# Introduction\r\n",
    "This is a notebook for me to note out all of the relating knowledge about Python basic syntax, numpy, matplolib, pandas, etc.\\\r\n",
    "If you are seeing this, I hope it has provided you with some handy one.\\\r\n",
    "Most part of this note comes from a lecture of VietAI -> You should check it out for more accurate information."
   ],
   "metadata": {}
  },
  {
   "cell_type": "markdown",
   "source": [
    "# Numberic type\r\n",
    "## Float and Int"
   ],
   "metadata": {}
  },
  {
   "cell_type": "code",
   "execution_count": 2,
   "source": [
    "x = 3 \r\n",
    "print(type(x))\r\n",
    "print(x%5, x/5, x//5);"
   ],
   "outputs": [
    {
     "output_type": "stream",
     "name": "stdout",
     "text": [
      "<class 'int'>\n",
      "3 0.6 0\n"
     ]
    }
   ],
   "metadata": {}
  },
  {
   "cell_type": "markdown",
   "source": [
    "# Textual format"
   ],
   "metadata": {}
  },
  {
   "cell_type": "code",
   "execution_count": 4,
   "source": [
    "hello = \"hello\"\r\n",
    "world = \"world\"\r\n",
    "\r\n",
    "hw12 = f'{hello} Nhu {world}'\r\n",
    "print(hw12)"
   ],
   "outputs": [
    {
     "output_type": "stream",
     "name": "stdout",
     "text": [
      "hello Nhu world\n"
     ]
    }
   ],
   "metadata": {}
  },
  {
   "cell_type": "markdown",
   "source": [
    "## Some useful function"
   ],
   "metadata": {}
  },
  {
   "cell_type": "code",
   "execution_count": 6,
   "source": [
    "s = \"hello\"\r\n",
    "print(s.upper(), s.capitalize(), s.replace('l', 'ell'))\r\n",
    "print(s.find('hi'))\r\n",
    "print('    world '.strip())"
   ],
   "outputs": [
    {
     "output_type": "stream",
     "name": "stdout",
     "text": [
      "HELLO Hello heellello\n",
      "-1\n",
      "world\n"
     ]
    }
   ],
   "metadata": {}
  },
  {
   "cell_type": "markdown",
   "source": [
    "# Sequences \r\n",
    "## Lists"
   ],
   "metadata": {}
  },
  {
   "cell_type": "code",
   "execution_count": 14,
   "source": [
    "xs = [1,4,5,6,'foo', 7, 8, 9, 10]\r\n",
    "#rint all except the last one\r\n",
    "print(xs[:-1])\r\n",
    "\r\n",
    "print(xs[:4:3]) #??? Still a mystery to me\r\n",
    "print(xs[:2:3])\r\n",
    "#print the reverse chain of itself\r\n",
    "print(xs[::-1])\r\n",
    "\r\n",
    "print()\r\n",
    "\r\n",
    "nums = list(range(5))\r\n",
    "print('nums: ', nums)\r\n",
    "\r\n",
    "print(nums[:])"
   ],
   "outputs": [
    {
     "output_type": "stream",
     "name": "stdout",
     "text": [
      "[1, 4, 5, 6, 'foo', 7, 8, 9]\n",
      "[1, 6]\n",
      "[1]\n",
      "[10, 9, 8, 7, 'foo', 6, 5, 4, 1]\n",
      "\n",
      "nums:  [0, 1, 2, 3, 4]\n",
      "[0, 1, 2, 3, 4]\n"
     ]
    }
   ],
   "metadata": {}
  },
  {
   "cell_type": "markdown",
   "source": [
    "## Dictionary"
   ],
   "metadata": {}
  },
  {
   "cell_type": "code",
   "execution_count": 19,
   "source": [
    "# Use the key to call out the value of it\r\n",
    "d = {'animal': {'cat': 'cute', 'dog': 'furry'}}\r\n",
    "\r\n",
    "print(d['animal']['cat'])\r\n",
    "\r\n",
    "d['animal']['fish'] = 'wet'\r\n",
    "print(d)\r\n",
    "\r\n",
    "print(d.get('rat'))\r\n",
    "\r\n",
    "print(d.get('monkey', 'N/A'))\r\n",
    "\r\n",
    "print(d)"
   ],
   "outputs": [
    {
     "output_type": "stream",
     "name": "stdout",
     "text": [
      "cute\n",
      "{'animal': {'cat': 'cute', 'dog': 'furry', 'fish': 'wet'}}\n",
      "None\n",
      "N/A\n",
      "{'animal': {'cat': 'cute', 'dog': 'furry', 'fish': 'wet'}}\n"
     ]
    }
   ],
   "metadata": {}
  },
  {
   "cell_type": "markdown",
   "source": [
    "## Set"
   ],
   "metadata": {}
  },
  {
   "cell_type": "code",
   "execution_count": 23,
   "source": [
    "animals = {'cat', 'dog'}\r\n",
    "print('cat' in animals)\r\n",
    "\r\n",
    "animals.add('fish')\r\n",
    "print(animals)\r\n",
    "\r\n",
    "animals.remove('fish')\r\n",
    "print(animals)"
   ],
   "outputs": [
    {
     "output_type": "stream",
     "name": "stdout",
     "text": [
      "True\n",
      "{'dog', 'cat', 'fish'}\n",
      "{'dog', 'cat'}\n"
     ]
    }
   ],
   "metadata": {}
  },
  {
   "cell_type": "markdown",
   "source": [
    "\r\n",
    "## Tuple"
   ],
   "metadata": {}
  },
  {
   "cell_type": "code",
   "execution_count": 26,
   "source": [
    "t = (5,6)\r\n",
    "print(type(t))\r\n",
    "\r\n",
    "a,b = t\r\n",
    "print(a,b)\r\n",
    "\r\n",
    "t2 = t + (7,8)\r\n",
    "print(t2)\r\n",
    "\r\n"
   ],
   "outputs": [
    {
     "output_type": "stream",
     "name": "stdout",
     "text": [
      "<class 'tuple'>\n",
      "5 6\n",
      "(5, 6, 7, 8)\n"
     ]
    }
   ],
   "metadata": {}
  },
  {
   "cell_type": "markdown",
   "source": [
    "# Class"
   ],
   "metadata": {}
  },
  {
   "cell_type": "code",
   "execution_count": null,
   "source": [
    "class Gretter():\r\n",
    "    def __init__(self, name):\r\n",
    "        self.name = name\r\n",
    "    \r\n",
    "    def greet(self, loud = False):\r\n",
    "        if loud:\r\n",
    "            print(f'HELLOOOO, {self.name}')\r\n",
    "        else:\r\n",
    "            print(f'hello, {self.name}')\r\n",
    "\r\n",
    "g = Gretter(\"Nina\")\r\n",
    "g.greete()\r\n",
    "g.greet(loud = True)"
   ],
   "outputs": [],
   "metadata": {}
  },
  {
   "cell_type": "markdown",
   "source": [
    "# Control structure"
   ],
   "metadata": {}
  },
  {
   "cell_type": "code",
   "execution_count": 27,
   "source": [
    "animals = ['cat', 'dog', 'mouse']\r\n",
    "\r\n",
    "for index, item in enumerate(animals):\r\n",
    "    print( f'{index}: {item}')"
   ],
   "outputs": [
    {
     "output_type": "stream",
     "name": "stdout",
     "text": [
      "0: cat\n",
      "1: dog\n",
      "2: mouse\n"
     ]
    }
   ],
   "metadata": {}
  },
  {
   "cell_type": "code",
   "execution_count": 29,
   "source": [
    "dict = {'fish': 0, 'cat': 4, 'spider': 8}\r\n",
    "print(dict.keys())\r\n",
    "print(dict.values())\r\n",
    "\r\n",
    "for animal, legs in dict.items():\r\n",
    "    print(f'{animal} has {legs} leg/legs')"
   ],
   "outputs": [
    {
     "output_type": "stream",
     "name": "stdout",
     "text": [
      "dict_keys(['fish', 'cat', 'spider'])\n",
      "dict_values([0, 4, 8])\n",
      "fish has 0 leg/legs\n",
      "cat has 4 leg/legs\n",
      "spider has 8 leg/legs\n"
     ]
    }
   ],
   "metadata": {}
  },
  {
   "cell_type": "code",
   "execution_count": null,
   "source": [],
   "outputs": [],
   "metadata": {}
  },
  {
   "cell_type": "markdown",
   "source": [
    "# OS \r\n"
   ],
   "metadata": {}
  },
  {
   "cell_type": "code",
   "execution_count": null,
   "source": [],
   "outputs": [],
   "metadata": {}
  },
  {
   "cell_type": "code",
   "execution_count": null,
   "source": [],
   "outputs": [],
   "metadata": {}
  },
  {
   "cell_type": "markdown",
   "source": [
    "# SYS"
   ],
   "metadata": {}
  },
  {
   "cell_type": "code",
   "execution_count": null,
   "source": [],
   "outputs": [],
   "metadata": {}
  },
  {
   "cell_type": "markdown",
   "source": [
    "# Numpy\r\n",
    "This is a library in Python where it help processing work related to matrices and vectors.\r\n",
    "It is written both in C and Python -> Fast processing speed"
   ],
   "metadata": {}
  },
  {
   "cell_type": "markdown",
   "source": [
    "## Numpy Array"
   ],
   "metadata": {}
  },
  {
   "cell_type": "code",
   "execution_count": 4,
   "source": [
    "import numpy as np\r\n",
    "a = np.array([1,2,3])\r\n",
    "print(type(a))\r\n",
    "print(a.shape)\r\n",
    "\r\n",
    "b = np.array([[1,2,3], [4,5,6]])\r\n",
    "print(b.shape)"
   ],
   "outputs": [
    {
     "output_type": "stream",
     "name": "stdout",
     "text": [
      "<class 'numpy.ndarray'>\n",
      "(3,)\n",
      "(2, 3)\n",
      "5\n"
     ]
    }
   ],
   "metadata": {}
  },
  {
   "cell_type": "code",
   "execution_count": 8,
   "source": [
    "a = np.zeros((2,2))\r\n",
    "print(a)\r\n",
    "\r\n",
    "b = np.ones((1,2))\r\n",
    "\r\n",
    "c = np.full((2,2),7)\r\n",
    "print(c)\r\n",
    "\r\n",
    "d = np.eye(2) \r\n",
    "print(d)\r\n",
    "\r\n",
    "e = np.random.random((2,2))\r\n",
    "print(e)"
   ],
   "outputs": [
    {
     "output_type": "stream",
     "name": "stdout",
     "text": [
      "[[0. 0.]\n",
      " [0. 0.]]\n",
      "[[7 7]\n",
      " [7 7]]\n",
      "[[1. 0.]\n",
      " [0. 1.]]\n",
      "[[0.83282203 0.17145986]\n",
      " [0.32472449 0.44705047]]\n"
     ]
    }
   ],
   "metadata": {}
  },
  {
   "cell_type": "code",
   "execution_count": 11,
   "source": [
    "a = np.array([[1,2,3,4], [5,6,7,8], [9,10,11,12]])\r\n",
    "print(a.shape)\r\n",
    "b = a[:2, 1:3]\r\n",
    "print(b)\r\n",
    "\r\n",
    "col_1 = a[: ,1]\r\n",
    "print(col_1, col_1.shape)"
   ],
   "outputs": [
    {
     "output_type": "stream",
     "name": "stdout",
     "text": [
      "(3, 4)\n",
      "[[2 3]\n",
      " [6 7]]\n",
      "[ 2  6 10] (3,)\n"
     ]
    }
   ],
   "metadata": {}
  },
  {
   "cell_type": "code",
   "execution_count": 18,
   "source": [
    "a = np.array([[1,2,3], [4,5,6], [7,8,9], [10,11,12]])\r\n",
    "\r\n",
    "b = np.array([0,2,0,1])\r\n",
    "\r\n",
    "print(a[np.arange(4), b])\r\n",
    "\r\n",
    "a[np.arange(4), b] += 10\r\n",
    "print(a)"
   ],
   "outputs": [
    {
     "output_type": "stream",
     "name": "stdout",
     "text": [
      "[ 1  6  7 11]\n",
      "[[11  2  3]\n",
      " [ 4  5 16]\n",
      " [17  8  9]\n",
      " [10 21 12]]\n"
     ]
    }
   ],
   "metadata": {}
  },
  {
   "cell_type": "code",
   "execution_count": 24,
   "source": [
    "a = np.array([[1,2], [3,4], [5,6]])\r\n",
    "\r\n",
    "bool_idx = (a > 2)\r\n",
    "print(bool_idx)\r\n",
    "\r\n",
    "print(a[bool_idx])\r\n",
    "\r\n",
    "print(a[a > 2])"
   ],
   "outputs": [
    {
     "output_type": "stream",
     "name": "stdout",
     "text": [
      "[[False False]\n",
      " [ True  True]\n",
      " [ True  True]]\n",
      "[3 4 5 6]\n",
      "[3 4 5 6]\n"
     ]
    }
   ],
   "metadata": {}
  },
  {
   "cell_type": "markdown",
   "source": [
    "**[For more information about numpy array indexing](http://docs.scipy.org/doc/numpy/reference/arrays.indexing.html)**"
   ],
   "metadata": {}
  },
  {
   "cell_type": "code",
   "execution_count": 36,
   "source": [
    "x = np.array([1,2])\r\n",
    "print(x.dtype)\r\n",
    "\r\n",
    "x = np.array([1.0, 2.0])\r\n",
    "print(x.dtype)\r\n",
    "\r\n",
    "np.array([1,2], dtype = np.int64)\r\n",
    "print(x.dtype)"
   ],
   "outputs": [
    {
     "output_type": "stream",
     "name": "stdout",
     "text": [
      "int32\n",
      "float64\n",
      "float64\n"
     ]
    }
   ],
   "metadata": {}
  },
  {
   "cell_type": "code",
   "execution_count": 37,
   "source": [
    "x = np.array([[1,2], [3,4]], dtype=np.float64)\r\n",
    "y = np.array([[5,6], [7,8]], dtype=np.float64)\r\n",
    "\r\n",
    "print(x + y)\r\n",
    "print(np.add(x,y))\r\n",
    "\r\n",
    "print(x - y)\r\n",
    "\r\n",
    "print(x*y)\r\n",
    " \r\n",
    "print(x / y)\r\n"
   ],
   "outputs": [
    {
     "output_type": "stream",
     "name": "stdout",
     "text": [
      "[[ 6.  8.]\n",
      " [10. 12.]]\n",
      "[[ 6.  8.]\n",
      " [10. 12.]]\n",
      "[[-4. -4.]\n",
      " [-4. -4.]]\n",
      "[[ 5. 12.]\n",
      " [21. 32.]]\n",
      "[[0.2        0.33333333]\n",
      " [0.42857143 0.5       ]]\n"
     ]
    }
   ],
   "metadata": {}
  },
  {
   "cell_type": "code",
   "execution_count": 40,
   "source": [
    "x = np.array([[1,2], [3,4]], dtype=np.float64)\r\n",
    "y = np.array([[5,6], [7,8]], dtype=np.float64)\r\n",
    "\r\n",
    "v = np.array([9,10])\r\n",
    "w = np.array([11,12])\r\n",
    "\r\n",
    "print(v.dot(w))\r\n",
    "print(np.dot(v,w))\r\n",
    "\r\n",
    "print(x.dot(v))\r\n",
    "print(np.dot(x,v).shape)"
   ],
   "outputs": [
    {
     "output_type": "stream",
     "name": "stdout",
     "text": [
      "219\n",
      "219\n",
      "[29. 67.]\n",
      "(2,)\n"
     ]
    }
   ],
   "metadata": {}
  },
  {
   "cell_type": "markdown",
   "source": [
    "### Sum over axis"
   ],
   "metadata": {}
  },
  {
   "cell_type": "code",
   "execution_count": 47,
   "source": [
    "x = np.array([[1,2,3], [3,4,5]])\r\n",
    "print(np.sum(x, axis = 0))\r\n",
    "print(np.sum(x, axis = 1))\r\n"
   ],
   "outputs": [
    {
     "output_type": "stream",
     "name": "stdout",
     "text": [
      "[4 6 8]\n",
      "[ 6 12]\n"
     ]
    }
   ],
   "metadata": {}
  },
  {
   "cell_type": "code",
   "execution_count": 52,
   "source": [
    "x = np.array([[1,2], [3,4]])\r\n",
    "\r\n",
    "print(x)\r\n",
    "print(x.T)\r\n",
    "\r\n",
    "v = np.array([1,2,3])\r\n",
    "print(v.T) \r\n",
    "\r\n",
    "print(x[0].T)"
   ],
   "outputs": [
    {
     "output_type": "stream",
     "name": "stdout",
     "text": [
      "[[1 2]\n",
      " [3 4]]\n",
      "[[1 3]\n",
      " [2 4]]\n",
      "[1 2 3]\n",
      "[1 2]\n"
     ]
    }
   ],
   "metadata": {}
  },
  {
   "cell_type": "code",
   "execution_count": 53,
   "source": [
    "x = np.array([[1,2,3], [4,5,6], [7,8,9], [10,11,12]])\r\n",
    "v = np.array([1,0,1])\r\n",
    "y = np.empty_like(x) # Copy the shape and type of x\r\n",
    "\r\n",
    "print(y)\r\n",
    "\r\n",
    "for i in range(4):\r\n",
    "    y[i, :] = x[i, :] + v\r\n",
    "\r\n",
    "print(y)"
   ],
   "outputs": [
    {
     "output_type": "stream",
     "name": "stdout",
     "text": [
      "[[ 2  2  4]\n",
      " [ 5  5  7]\n",
      " [ 8  8 10]\n",
      " [11 11 13]]\n",
      "[[ 2  2  4]\n",
      " [ 5  5  7]\n",
      " [ 8  8 10]\n",
      " [11 11 13]]\n"
     ]
    }
   ],
   "metadata": {}
  },
  {
   "cell_type": "code",
   "execution_count": 56,
   "source": [
    "x = np.array([[1,2,3], [4,5,6], [7,8,9], [10,11,12]])\r\n",
    "v = np.array([1,0,1])\r\n",
    "vv = np.tile(v, (4,1))\r\n",
    "\r\n",
    "print(vv) # Reconstructing a new array in repetitive of times\r\n",
    "\r\n",
    "print(np.tile(v, (4,2))) # The number 2 is for the times a single dim is repeat"
   ],
   "outputs": [
    {
     "output_type": "stream",
     "name": "stdout",
     "text": [
      "[[1 0 1]\n",
      " [1 0 1]\n",
      " [1 0 1]\n",
      " [1 0 1]]\n",
      "[[1 0 1 1 0 1]\n",
      " [1 0 1 1 0 1]\n",
      " [1 0 1 1 0 1]\n",
      " [1 0 1 1 0 1]]\n"
     ]
    }
   ],
   "metadata": {}
  },
  {
   "cell_type": "code",
   "execution_count": 57,
   "source": [
    "x = np.array([[1,2,3], [4,5,6], [7,8,9], [10,11,12]])\r\n",
    "v = np.array([1,0,1])\r\n",
    "print(v + x) # Presummably automatically constructing the matrix have the same shape with the adidng one"
   ],
   "outputs": [
    {
     "output_type": "stream",
     "name": "stdout",
     "text": [
      "[[ 2  2  4]\n",
      " [ 5  5  7]\n",
      " [ 8  8 10]\n",
      " [11 11 13]]\n"
     ]
    }
   ],
   "metadata": {}
  },
  {
   "cell_type": "markdown",
   "source": [
    "# Matlotlib Visualization"
   ],
   "metadata": {}
  },
  {
   "cell_type": "code",
   "execution_count": 62,
   "source": [
    "import matplotlib.pyplot as plt\r\n",
    "import numpy as np\r\n"
   ],
   "outputs": [],
   "metadata": {}
  },
  {
   "cell_type": "markdown",
   "source": [
    "## Create data with sin-shape"
   ],
   "metadata": {}
  },
  {
   "cell_type": "code",
   "execution_count": 69,
   "source": [
    "t = np.arange(0.0, 2.0, 0.05) # Take sample from 0 -> 2, step 0.05\r\n",
    "s = np.sin(2 * np.pi * t)\r\n",
    "\r\n"
   ],
   "outputs": [],
   "metadata": {}
  },
  {
   "cell_type": "code",
   "execution_count": 76,
   "source": [
    "plt.plot(t,s)\r\n",
    "plt.text(1.5, -0.25, r'$s = \\mathrm{sin}{2 \\pi t}$')\r\n",
    "plt.plot(t, s+1, 'r^')\r\n",
    "plt.text(1.5, 1.5, r'$s = \\mathrm{sin}{2 \\pi t} + 1$')\r\n",
    "plt.plot(t, s-1, 'go')\r\n",
    "plt.text(1.5, -1.5, r'$s = \\mathrm{sin}{2 \\pi t} - 1$')\r\n",
    "plt.title('Sin-shape diagram')\r\n",
    "plt.xlabel('Time t')\r\n",
    "plt.ylabel('Amplitude s')\r\n",
    "plt.show()"
   ],
   "outputs": [
    {
     "output_type": "display_data",
     "data": {
      "image/png": "[encoded data removed]",
      "text/plain": [
       "<Figure size 432x288 with 1 Axes>"
      ]
     },
     "metadata": {
      "needs_background": "light"
     }
    }
   ],
   "metadata": {}
  },
  {
   "cell_type": "markdown",
   "source": [
    "## Subplot with Matplotlib\r\n",
    "subplot(nrow ncol index)"
   ],
   "metadata": {}
  },
  {
   "cell_type": "code",
   "execution_count": 94,
   "source": [
    "plt.subplot(231)\r\n",
    "plt.scatter(t, s, marker = '>')\r\n",
    "\r\n",
    "plt.subplot(232)\r\n",
    "plt.plot(t,s)\r\n",
    "\r\n",
    "plt.subplot(233)\r\n",
    "x = np.arange(3)\r\n",
    "money = [1.5e5, 2.5e6, 6.5e6]\r\n",
    "plt.bar(x, money)\r\n",
    "plt.xticks(x, ('Cty A', 'Cty B', 'Cty C'))\r\n",
    "\r\n",
    "\r\n",
    "plt.subplot(234)\r\n",
    "labels = ['Others', 'China', 'USA']\r\n",
    "sizes = [25, 35, 40]\r\n",
    "plt.pie(sizes, labels = labels, autopct='%1.0f%%', shadow=True, startangle=90)\r\n",
    "\r\n",
    "plt.subplot(235)\r\n",
    "x = np.arange(0,5,1)\r\n",
    "y1 = [1, 1, 2, 3, 5]\r\n",
    "y2 = [0, 4, 2, 6, 8]\r\n",
    "y3 = [i for i in range(1,11, 2)]\r\n",
    "y = np.vstack([y1,y2,y3]) # Build a matrice with each row is a vector\r\n",
    "plt.stackplot(x, y1, y2, y3, labels=labels)\r\n",
    "\r\n"
   ],
   "outputs": [
    {
     "output_type": "execute_result",
     "data": {
      "text/plain": [
       "[<matplotlib.collections.PolyCollection at 0x1751e25b3d0>,\n",
       " <matplotlib.collections.PolyCollection at 0x1751e25b670>,\n",
       " <matplotlib.collections.PolyCollection at 0x1751e25b970>]"
      ]
     },
     "metadata": {},
     "execution_count": 94
    },
    {
     "output_type": "display_data",
     "data": {
      "image/png": "[encoded data removed]",
      "text/plain": [
       "<Figure size 432x288 with 5 Axes>"
      ]
     },
     "metadata": {
      "needs_background": "light"
     }
    }
   ],
   "metadata": {}
  },
  {
   "cell_type": "markdown",
   "source": [
    "# Pandas data manipulation"
   ],
   "metadata": {}
  },
  {
   "cell_type": "markdown",
   "source": [
    "## Create Data Frame"
   ],
   "metadata": {}
  },
  {
   "cell_type": "code",
   "execution_count": 96,
   "source": [
    "import pandas as pd\r\n",
    "# Introduce by rows\r\n",
    "df = pd.DataFrame({\r\n",
    "    \"X\": [13, 30, 'A'],\r\n",
    "    \"Y\": [15, 32, 'B'],\r\n",
    "    \"Z\": [10, 29, 'O'],\r\n",
    "    \"T\": [12, 28, 'AB']\r\n",
    "},\r\n",
    "index = [1,2,3]\r\n",
    ")\r\n",
    "print(df)\r\n",
    "# Introduce by columns\r\n",
    "df2 = pd.DataFrame(\r\n",
    "    [\r\n",
    "        [13, 15, 10, 12],\r\n",
    "        [30,32, 29, 28],\r\n",
    "        ['A', 'B', 'O', 'AB']\r\n",
    "    ],\r\n",
    "    index = [1,2,3]\r\n",
    ")\r\n",
    "print(df2)"
   ],
   "outputs": [
    {
     "output_type": "stream",
     "name": "stdout",
     "text": [
      "    X   Y   Z   T\n",
      "1  13  15  10  12\n",
      "2  30  32  29  28\n",
      "3   A   B   O  AB\n",
      "    0   1   2   3\n",
      "1  13  15  10  12\n",
      "2  30  32  29  28\n",
      "3   A   B   O  AB\n"
     ]
    }
   ],
   "metadata": {}
  },
  {
   "cell_type": "markdown",
   "source": [
    "Can also read csv using pandas\r\n",
    "- A row is called an observation\r\n",
    "- Can use pivot for clustering data\r\n",
    "- Connecting data by adding row with concat (axis = 0) and adding column with axis = 1\r\n",
    "- Fill the na value with df_new.fillna(number)\r\n"
   ],
   "metadata": {}
  }
 ],
 "metadata": {
  "orig_nbformat": 4,
  "language_info": {
   "name": "python",
   "version": "3.8.8",
   "mimetype": "text/x-python",
   "codemirror_mode": {
    "name": "ipython",
    "version": 3
   },
   "pygments_lexer": "ipython3",
   "nbconvert_exporter": "python",
   "file_extension": ".py"
  },
  "kernelspec": {
   "name": "python3",
   "display_name": "Python 3.8.8 64-bit ('base': conda)"
  },
  "interpreter": {
   "hash": "380030d1298d5a27518acca789ff38fe82bbf2e68b73263de6a6bf23efb7704c"
  }
 },
 "nbformat": 4,
 "nbformat_minor": 2
}