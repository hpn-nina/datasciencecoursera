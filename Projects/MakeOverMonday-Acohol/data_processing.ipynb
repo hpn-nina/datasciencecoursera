{
 "cells": [
  {
   "cell_type": "code",
   "execution_count": 123,
   "source": [
    "import pandas as pd\r\n",
    "import numpy as np"
   ],
   "outputs": [],
   "metadata": {}
  },
  {
   "cell_type": "code",
   "execution_count": 136,
   "source": [
    "acohol = pd.read_excel('Alcohol.xlsx')\r\n",
    "country_region = pd.read_csv('country-region-code.csv')\r\n",
    "country_population = pd.read_csv('country-population.csv')\r\n",
    "acohol['continent_code'] = np.nan\r\n",
    "acohol['country_code'] = np.nan\r\n",
    "acohol['population'] = np.nan\r\n",
    "\r\n",
    "count = 0\r\n",
    "for i in acohol['Country']:\r\n",
    "    data = pd.DataFrame()\r\n",
    "    data['index'] = range(0,len(country_region['Country_Name'])) \r\n",
    "    data['find'] =  country_region['Country_Name'].str.contains(i)\r\n",
    "    index = data[data.find.isin([True])]\r\n",
    "    index = index.values.tolist()\r\n",
    "    \r\n",
    "    if(len(index) >= 1):\r\n",
    "        acohol['continent_code'][count] = country_region['Continent_Code'][index[0][0]]\r\n",
    "        acohol['country_code'][count] = country_region['Three_Letter_Country_Code'][index[0][0]]\r\n",
    "\r\n",
    "        # We have a country code -> use it to take population in 2020\r\n",
    "        row = country_population.loc[country_population['Country Code'] == acohol['country_code'][count]]\r\n",
    "        acohol['population'][count] = row['2020']\r\n",
    "    elif i == 'South Korea':\r\n",
    "        acohol['continent_code'][count] = 'AS'\r\n",
    "        acohol['country_code'][count] = 'KOR'\r\n",
    "        acohol['population'][count] = 51780579.0\r\n",
    "    else:\r\n",
    "        acohol['continent_code'][count] = np.nan\r\n",
    "        acohol['country_code'][count] = np.nan\r\n",
    "        acohol['population'][count] = np.nan\r\n",
    "\r\n",
    "    count += 1\r\n",
    "\r\n",
    "acohol.to_csv('new_acohol.csv')\r\n"
   ],
   "outputs": [
    {
     "output_type": "stream",
     "name": "stderr",
     "text": [
      "<ipython-input-136-5ce5331392f3>:17: SettingWithCopyWarning: \n",
      "A value is trying to be set on a copy of a slice from a DataFrame\n",
      "\n",
      "See the caveats in the documentation: https://pandas.pydata.org/pandas-docs/stable/user_guide/indexing.html#returning-a-view-versus-a-copy\n",
      "  acohol['continent_code'][count] = country_region['Continent_Code'][index[0][0]]\n",
      "C:\\Users\\ASUS\\anaconda3\\lib\\site-packages\\pandas\\core\\indexing.py:1637: SettingWithCopyWarning: \n",
      "A value is trying to be set on a copy of a slice from a DataFrame\n",
      "\n",
      "See the caveats in the documentation: https://pandas.pydata.org/pandas-docs/stable/user_guide/indexing.html#returning-a-view-versus-a-copy\n",
      "  self._setitem_single_block(indexer, value, name)\n",
      "<ipython-input-136-5ce5331392f3>:18: SettingWithCopyWarning: \n",
      "A value is trying to be set on a copy of a slice from a DataFrame\n",
      "\n",
      "See the caveats in the documentation: https://pandas.pydata.org/pandas-docs/stable/user_guide/indexing.html#returning-a-view-versus-a-copy\n",
      "  acohol['country_code'][count] = country_region['Three_Letter_Country_Code'][index[0][0]]\n",
      "<ipython-input-136-5ce5331392f3>:22: SettingWithCopyWarning: \n",
      "A value is trying to be set on a copy of a slice from a DataFrame\n",
      "\n",
      "See the caveats in the documentation: https://pandas.pydata.org/pandas-docs/stable/user_guide/indexing.html#returning-a-view-versus-a-copy\n",
      "  acohol['population'][count] = row['2020']\n",
      "<ipython-input-136-5ce5331392f3>:24: SettingWithCopyWarning: \n",
      "A value is trying to be set on a copy of a slice from a DataFrame\n",
      "\n",
      "See the caveats in the documentation: https://pandas.pydata.org/pandas-docs/stable/user_guide/indexing.html#returning-a-view-versus-a-copy\n",
      "  acohol['continent_code'][count] = 'AS'\n",
      "<ipython-input-136-5ce5331392f3>:25: SettingWithCopyWarning: \n",
      "A value is trying to be set on a copy of a slice from a DataFrame\n",
      "\n",
      "See the caveats in the documentation: https://pandas.pydata.org/pandas-docs/stable/user_guide/indexing.html#returning-a-view-versus-a-copy\n",
      "  acohol['country_code'][count] = 'KOR'\n",
      "<ipython-input-136-5ce5331392f3>:26: SettingWithCopyWarning: \n",
      "A value is trying to be set on a copy of a slice from a DataFrame\n",
      "\n",
      "See the caveats in the documentation: https://pandas.pydata.org/pandas-docs/stable/user_guide/indexing.html#returning-a-view-versus-a-copy\n",
      "  acohol['population'][count] = 51780579.0\n"
     ]
    }
   ],
   "metadata": {}
  },
  {
   "cell_type": "code",
   "execution_count": null,
   "source": [],
   "outputs": [],
   "metadata": {}
  }
 ],
 "metadata": {
  "orig_nbformat": 4,
  "language_info": {
   "name": "python",
   "version": "3.8.8",
   "mimetype": "text/x-python",
   "codemirror_mode": {
    "name": "ipython",
    "version": 3
   },
   "pygments_lexer": "ipython3",
   "nbconvert_exporter": "python",
   "file_extension": ".py"
  },
  "kernelspec": {
   "name": "python3",
   "display_name": "Python 3.8.8 64-bit ('base': conda)"
  },
  "interpreter": {
   "hash": "380030d1298d5a27518acca789ff38fe82bbf2e68b73263de6a6bf23efb7704c"
  }
 },
 "nbformat": 4,
 "nbformat_minor": 2
}